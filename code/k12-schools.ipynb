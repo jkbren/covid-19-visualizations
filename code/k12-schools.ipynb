{
 "cells": [
  {
   "cell_type": "code",
   "execution_count": 2,
   "metadata": {},
   "outputs": [],
   "source": [
    "import gspread\n",
    "from oauth2client.service_account import ServiceAccountCredentials\n",
    "from gspread_formatting import *\n",
    "from collections import Counter\n",
    "import numpy as np\n",
    "import time\n",
    "\n",
    "import pandas as pd\n",
    "import datetime as dt\n",
    "import requests\n",
    "from bs4 import BeautifulSoup\n",
    "\n",
    "import matplotlib.pyplot as plt\n",
    "import matplotlib.patheffects as path_effects\n",
    "from matplotlib import ticker\n",
    "from matplotlib.ticker import MaxNLocator\n",
    "\n",
    "from matplotlib.gridspec import GridSpec\n",
    "from mpl_toolkits.axes_grid1.inset_locator import inset_axes\n",
    "import itertools as it\n",
    "\n",
    "plt.rcParams['figure.facecolor'] = 'white'\n",
    "plt.rcParams['axes.facecolor']='white'\n",
    "plt.rcParams['savefig.facecolor']='white'\n",
    "plt.rc('axes', axisbelow=True)\n",
    "%matplotlib inline"
   ]
  },
  {
   "cell_type": "code",
   "execution_count": 3,
   "metadata": {},
   "outputs": [],
   "source": [
    "today = time.strftime(\"%Y-%m-%d\")\n",
    "\n",
    "month_dict = {'01':'Jan','02':'Feb','03':'Mar','04':'Apr','05':'May','06':'Jun',\n",
    "              '07':'Jul','08':'Aug','09':'Sep','10':'Oct','11':'Nov','12':'Dec'}\n",
    "\n",
    "weekday_mapping = {0:'Monday',1:'Tuesday',2:'Wednesday',3:'Thursday',4:'Friday',5:'Saturday',6:'Sunday'}\n",
    "\n",
    "alldates = pd.date_range(start='2020-01-06', end='2021-12-31').tolist()\n",
    "datelist = [str(i.date()) for i in alldates]\n",
    "weekdays = [weekday_mapping[i.date().weekday()] for i in alldates]\n",
    "weeklist = [i//7 for i in range(len(alldates))]\n",
    "DATE_DF = pd.DataFrame({'date':datelist,'day':weekdays,'week':weeklist})\n",
    "DATERANGE = DATE_DF['date'].tolist()\n",
    "\n",
    "date_dict = {DATERANGE[i]:i for i in range(len(DATERANGE))}"
   ]
  },
  {
   "cell_type": "code",
   "execution_count": 4,
   "metadata": {},
   "outputs": [],
   "source": [
    "usr_agent = {'User-Agent': 'Mozilla/5.0 (Windows NT 10.0; Win64; x64) AppleWebKit/537.36 (KHTML, like Gecko) '\n",
    "                  'Chrome/61.0.3163.100 Safari/537.36'}"
   ]
  },
  {
   "cell_type": "markdown",
   "metadata": {},
   "source": [
    "# Alabama\n",
    "https://services7.arcgis.com/4RQmZZ0yaZkGR1zy/arcgis/rest/services/alsde_c19_publish_PUBLIC/FeatureServer/0/query?f=json&where=WeekOf%3D9&returnGeometry=false&spatialRel=esriSpatialRelIntersects&outFields=*&orderByFields=SchoolSystem%20asc&resultOffset=0&resultRecordCount=200&resultType=standard&cacheHint=true\n",
    "\n",
    "https://services7.arcgis.com/4RQmZZ0yaZkGR1zy/arcgis/rest/services/alsde_c19_publish_PUBLIC/FeatureServer/0/query?f=json&where=WeekOf%3D9&returnGeometry=false&spatialRel=esriSpatialRelIntersects&outFields=*&orderByFields=SchoolSystem%20asc&outSR=102100&resultOffset=0&resultRecordCount=150&resultType=standard&cacheHint=true"
   ]
  },
  {
   "cell_type": "code",
   "execution_count": null,
   "metadata": {},
   "outputs": [],
   "source": []
  },
  {
   "cell_type": "markdown",
   "metadata": {},
   "source": [
    "# Alaska\n"
   ]
  },
  {
   "cell_type": "code",
   "execution_count": null,
   "metadata": {},
   "outputs": [],
   "source": []
  },
  {
   "cell_type": "markdown",
   "metadata": {},
   "source": [
    "# Arizona\n",
    "\n",
    "https://www.azed.gov/covid-19/learning-model-tracker?page=1"
   ]
  },
  {
   "cell_type": "code",
   "execution_count": 5,
   "metadata": {},
   "outputs": [
    {
     "data": {
      "text/html": [
       "<div>\n",
       "<style scoped>\n",
       "    .dataframe tbody tr th:only-of-type {\n",
       "        vertical-align: middle;\n",
       "    }\n",
       "\n",
       "    .dataframe tbody tr th {\n",
       "        vertical-align: top;\n",
       "    }\n",
       "\n",
       "    .dataframe thead th {\n",
       "        text-align: right;\n",
       "    }\n",
       "</style>\n",
       "<table border=\"1\" class=\"dataframe\">\n",
       "  <thead>\n",
       "    <tr style=\"text-align: right;\">\n",
       "      <th></th>\n",
       "      <th>LEA Name</th>\n",
       "      <th>County</th>\n",
       "      <th>Status</th>\n",
       "    </tr>\n",
       "  </thead>\n",
       "  <tbody>\n",
       "    <tr>\n",
       "      <th>0</th>\n",
       "      <td>La Paloma Academy Central</td>\n",
       "      <td>Pima</td>\n",
       "      <td>Distance</td>\n",
       "    </tr>\n",
       "    <tr>\n",
       "      <th>1</th>\n",
       "      <td>A+ Charter Schools</td>\n",
       "      <td>Pinal</td>\n",
       "      <td>Hybrid</td>\n",
       "    </tr>\n",
       "    <tr>\n",
       "      <th>2</th>\n",
       "      <td>Academy Del Sol</td>\n",
       "      <td>Pima</td>\n",
       "      <td>Hybrid</td>\n",
       "    </tr>\n",
       "    <tr>\n",
       "      <th>3</th>\n",
       "      <td>Academy Del Sol - Hope</td>\n",
       "      <td>Pima</td>\n",
       "      <td>Hybrid</td>\n",
       "    </tr>\n",
       "    <tr>\n",
       "      <th>4</th>\n",
       "      <td>Academy of Building Industries</td>\n",
       "      <td>Mohave</td>\n",
       "      <td>Hybrid</td>\n",
       "    </tr>\n",
       "    <tr>\n",
       "      <th>...</th>\n",
       "      <td>...</td>\n",
       "      <td>...</td>\n",
       "      <td>...</td>\n",
       "    </tr>\n",
       "    <tr>\n",
       "      <th>449</th>\n",
       "      <td>Young Scholars Academy</td>\n",
       "      <td>Mohave</td>\n",
       "      <td>In-Person</td>\n",
       "    </tr>\n",
       "    <tr>\n",
       "      <th>450</th>\n",
       "      <td>Yucca Elementary School</td>\n",
       "      <td>Mohave</td>\n",
       "      <td>Hybrid</td>\n",
       "    </tr>\n",
       "    <tr>\n",
       "      <th>451</th>\n",
       "      <td>Yuma Private Industry Council</td>\n",
       "      <td>Yuma</td>\n",
       "      <td>Distance</td>\n",
       "    </tr>\n",
       "    <tr>\n",
       "      <th>452</th>\n",
       "      <td>Yuma School District One</td>\n",
       "      <td>Yuma</td>\n",
       "      <td>Distance</td>\n",
       "    </tr>\n",
       "    <tr>\n",
       "      <th>453</th>\n",
       "      <td>Yuma Union High School District</td>\n",
       "      <td>Yuma</td>\n",
       "      <td>Distance</td>\n",
       "    </tr>\n",
       "  </tbody>\n",
       "</table>\n",
       "<p>454 rows × 3 columns</p>\n",
       "</div>"
      ],
      "text/plain": [
       "                            LEA Name  County     Status\n",
       "0          La Paloma Academy Central    Pima   Distance\n",
       "1                 A+ Charter Schools   Pinal     Hybrid\n",
       "2                    Academy Del Sol    Pima     Hybrid\n",
       "3             Academy Del Sol - Hope    Pima     Hybrid\n",
       "4     Academy of Building Industries  Mohave     Hybrid\n",
       "..                               ...     ...        ...\n",
       "449           Young Scholars Academy  Mohave  In-Person\n",
       "450          Yucca Elementary School  Mohave     Hybrid\n",
       "451    Yuma Private Industry Council    Yuma   Distance\n",
       "452         Yuma School District One    Yuma   Distance\n",
       "453  Yuma Union High School District    Yuma   Distance\n",
       "\n",
       "[454 rows x 3 columns]"
      ]
     },
     "execution_count": 5,
     "metadata": {},
     "output_type": "execute_result"
    }
   ],
   "source": [
    "out_az = []\n",
    "for page_i in range(19):\n",
    "    az_school_url_i = 'https://www.azed.gov/covid-19/learning-model-tracker?page=%i'%page_i\n",
    "    page = requests.get(az_school_url_i)\n",
    "    soup = BeautifulSoup(page.content, 'html.parser')\n",
    "    tbl = soup.find(\"table\",{\"class\":\"views-table cols-3 table table-hover table-striped\"})\n",
    "    df_tbl = pd.read_html(str(tbl))[0]\n",
    "    out_az.append(df_tbl)\n",
    "    \n",
    "az_df_status = pd.concat(out_az).reset_index().iloc[:,1:]\n",
    "az_df_status"
   ]
  },
  {
   "cell_type": "code",
   "execution_count": null,
   "metadata": {},
   "outputs": [],
   "source": []
  },
  {
   "cell_type": "markdown",
   "metadata": {},
   "source": [
    "# Arkansas\n",
    "\n",
    "schools: https://www.healthy.arkansas.gov/images/uploads/pdf/School_Report_02252021.pdf\n",
    "\n",
    "schools: https://www.healthy.arkansas.gov/images/uploads/pdf/School_Report_03012021.pdf\n",
    "\n",
    "outbreaks: https://www.healthy.arkansas.gov/images/uploads/pdf/Active_COVID-19_report02252021.pdf\n",
    "\n",
    "https://achi.net/covid19/"
   ]
  },
  {
   "cell_type": "code",
   "execution_count": 5,
   "metadata": {},
   "outputs": [],
   "source": [
    "import tabula"
   ]
  },
  {
   "cell_type": "code",
   "execution_count": 6,
   "metadata": {},
   "outputs": [],
   "source": [
    "ar_dates = DATE_DF.loc[(DATE_DF['date']<=today)&(DATE_DF['date']>'2020-08-01')]['date'].values\n",
    "web_url = 'http://web.archive.org'"
   ]
  },
  {
   "cell_type": "code",
   "execution_count": 7,
   "metadata": {},
   "outputs": [
    {
     "name": "stdout",
     "output_type": "stream",
     "text": [
      "2020-08-27 school_report_8_27.pdf\n",
      "2020-09-01 school_report_08312020.pdf\n",
      "2020-09-05 School_Report_09072020.pdf\n",
      "2020-09-05 School_Report_09032020.pdf\n",
      "2020-09-15 School_Report_09172020.pdf\n",
      "2020-09-15 School_Report_09142020_(002).pdf\n",
      "2020-09-22 School_Report_09212020.pdf\n",
      "2020-09-26 School_Report_09242020_(002).pdf\n",
      "2020-09-30 School_Report_10012020.pdf\n",
      "2020-09-30 School_Report_09282020.pdf\n",
      "2020-10-07 School_Report_10082020.pdf\n",
      "2020-10-07 School_Report_10052020.pdf\n",
      "2020-10-14 School_Report_10152020.pdf\n",
      "2020-10-14 School_Report_10122020.pdf\n",
      "2020-10-19 School_Report_10192020.pdf\n",
      "2020-10-24 School_Report_10262020.pdf\n",
      "2020-10-24 School_Report_10222020.pdf\n",
      "2020-10-29 School_Report_10292020.pdf\n",
      "2020-11-03 School_Report_11022020.pdf\n",
      "2020-11-06 School_Report_11052020.pdf\n",
      "2020-11-10 School_Report_11092020.pdf\n",
      "2020-11-14 School_Report_11162020.pdf\n",
      "2020-11-14 School_Report_11112020.pdf\n",
      "2020-11-19 School_Report_11192020.pdf\n",
      "2020-11-26 School_Report_11252020.pdf\n",
      "2020-11-26 School_Report_11232020.pdf\n",
      "2020-11-30 School_Report_11302020_.pdf\n",
      "2020-12-05 School_Report_12072020.pdf\n",
      "2020-12-05 School_Report_12022020.pdf\n",
      "2020-12-10 School_Report_12102020.pdf\n",
      "2020-12-16 School_Report_12172020.pdf\n",
      "2020-12-16 School_Report_12142020.pdf\n",
      "2020-12-26 School_Report_12282020.pdf\n",
      "2020-12-26 School_Report_12232020.pdf\n",
      "2021-01-01 School_Report_12312020.pdf\n",
      "2021-01-10 School_Report_01142021.pdf\n",
      "2021-01-10 School_Report_01112021.pdf\n",
      "2021-01-24 School_Report_01282021.pdf\n",
      "2021-01-24 School_Report_01252021.pdf\n",
      "2021-03-03 http://web.archive.org/images/uploads/pdf/School_Report_03012021.pdf\n",
      "2021-03-03 http://web.archive.org/images/uploads/pdf/School_Report_02252021.pdf\n"
     ]
    }
   ],
   "source": [
    "ar_out = []\n",
    "checks = []\n",
    "# for i in range(30):\n",
    "for i in range(len(ar_dates)):\n",
    "    try:\n",
    "        di = ar_dates[i].replace('-','')\n",
    "        ar_school_url_i = web_url+'/web/%s/https://www.healthy.arkansas.gov/programs-services/topics/covid-19-reports'%di\n",
    "        page = requests.get(ar_school_url_i)\n",
    "        soup = BeautifulSoup(page.content, 'html.parser')\n",
    "\n",
    "        links_i = [i.get('href') for i in soup.find_all('a')]\n",
    "        links_i = [i for i in links_i if 'school' in str(i).lower()]\n",
    "        for x in links_i:\n",
    "            add_url = web_url+x\n",
    "            if add_url.split('/pdf/')[-1] not in checks:\n",
    "                print(ar_dates[i],add_url.split('/pdf/')[-1])\n",
    "                checks.append(add_url.split('/pdf/')[-1])\n",
    "                ar_out.append(add_url)\n",
    "    except:\n",
    "        continue\n",
    "\n",
    "di = today.replace('-','')\n",
    "ar_school_url_i = 'https://www.healthy.arkansas.gov/programs-services/topics/covid-19-reports'\n",
    "\n",
    "page = requests.get(ar_school_url_i)\n",
    "soup = BeautifulSoup(page.content, 'html.parser')\n",
    "\n",
    "links_i = [i.get('href') for i in soup.find_all('a')]\n",
    "links_i = [i for i in links_i if 'school' in str(i).lower()]\n",
    "for x in links_i:\n",
    "    add_url = web_url+x\n",
    "    if add_url.split('/pdf/')[-1] not in checks:\n",
    "        print(today,add_url)\n",
    "        checks.append(add_url.split('/pdf/')[-1])\n",
    "        ar_out.append(add_url)"
   ]
  },
  {
   "cell_type": "code",
   "execution_count": 8,
   "metadata": {},
   "outputs": [
    {
     "data": {
      "text/plain": [
       "['http://web.archive.org/web/20200828141222/https://www.healthy.arkansas.gov/images/uploads/pdf/school_report_8_27.pdf',\n",
       " 'http://web.archive.org/web/20200901231530/https://www.healthy.arkansas.gov/images/uploads/pdf/school_report_08312020.pdf',\n",
       " 'http://web.archive.org/web/20200909055717/https://www.healthy.arkansas.gov/images/uploads/pdf/School_Report_09072020.pdf',\n",
       " 'http://web.archive.org/web/20200909055717/https://www.healthy.arkansas.gov/images/uploads/pdf/School_Report_09032020.pdf',\n",
       " 'http://web.archive.org/web/20200921073908/https://www.healthy.arkansas.gov/images/uploads/pdf/School_Report_09172020.pdf',\n",
       " 'http://web.archive.org/web/20200921073908/https://www.healthy.arkansas.gov/images/uploads/pdf/School_Report_09142020_(002).pdf',\n",
       " 'http://web.archive.org/web/20200924115948/https://www.healthy.arkansas.gov/images/uploads/pdf/School_Report_09212020.pdf',\n",
       " 'http://web.archive.org/web/20200928144404/https://www.healthy.arkansas.gov/images/uploads/pdf/School_Report_09242020_(002).pdf',\n",
       " 'http://web.archive.org/web/20201001221147/https://www.healthy.arkansas.gov/images/uploads/pdf/School_Report_10012020.pdf',\n",
       " 'http://web.archive.org/web/20201001221147/https://www.healthy.arkansas.gov/images/uploads/pdf/School_Report_09282020.pdf',\n",
       " 'http://web.archive.org/web/20201009173905/https://www.healthy.arkansas.gov/images/uploads/pdf/School_Report_10082020.pdf',\n",
       " 'http://web.archive.org/web/20201009173905/https://www.healthy.arkansas.gov/images/uploads/pdf/School_Report_10052020.pdf',\n",
       " 'http://web.archive.org/web/20201017001801/https://www.healthy.arkansas.gov/images/uploads/pdf/School_Report_10152020.pdf',\n",
       " 'http://web.archive.org/web/20201017001801/https://www.healthy.arkansas.gov/images/uploads/pdf/School_Report_10122020.pdf',\n",
       " 'http://web.archive.org/web/20201021052731/https://www.healthy.arkansas.gov/images/uploads/pdf/School_Report_10192020.pdf',\n",
       " 'http://web.archive.org/web/20201028003911/https://healthy.arkansas.gov/images/uploads/pdf/School_Report_10262020.pdf',\n",
       " 'http://web.archive.org/web/20201028003911/https://healthy.arkansas.gov/images/uploads/pdf/School_Report_10222020.pdf',\n",
       " 'http://web.archive.org/web/20201031120715/https://www.healthy.arkansas.gov/images/uploads/pdf/School_Report_10292020.pdf',\n",
       " 'http://web.archive.org/web/20201104173629/https://www.healthy.arkansas.gov/images/uploads/pdf/School_Report_11022020.pdf',\n",
       " 'http://web.archive.org/web/20201109004624/https://www.healthy.arkansas.gov/images/uploads/pdf/School_Report_11052020.pdf',\n",
       " 'http://web.archive.org/web/20201112023501/https://www.healthy.arkansas.gov/images/uploads/pdf/School_Report_11092020.pdf',\n",
       " 'http://web.archive.org/web/20201117135008/https://www.healthy.arkansas.gov/images/uploads/pdf/School_Report_11162020.pdf',\n",
       " 'http://web.archive.org/web/20201117135008/https://www.healthy.arkansas.gov/images/uploads/pdf/School_Report_11112020.pdf',\n",
       " 'http://web.archive.org/web/20201121192823/https://www.healthy.arkansas.gov/images/uploads/pdf/School_Report_11192020.pdf',\n",
       " 'http://web.archive.org/web/20201129051730/https://www.healthy.arkansas.gov/images/uploads/pdf/School_Report_11252020.pdf',\n",
       " 'http://web.archive.org/web/20201129051730/https://www.healthy.arkansas.gov/images/uploads/pdf/School_Report_11232020.pdf',\n",
       " 'http://web.archive.org/web/20201201100904/https://www.healthy.arkansas.gov/images/uploads/pdf/School_Report_11302020_.pdf',\n",
       " 'http://web.archive.org/web/20201208062758/https://www.healthy.arkansas.gov/images/uploads/pdf/School_Report_12072020.pdf',\n",
       " 'http://web.archive.org/web/20201208062758/https://www.healthy.arkansas.gov/images/uploads/pdf/School_Report_12022020.pdf',\n",
       " 'http://web.archive.org/web/20201213020915/https://www.healthy.arkansas.gov/images/uploads/pdf/School_Report_12102020.pdf',\n",
       " 'http://web.archive.org/web/20201218230358/https://www.healthy.arkansas.gov/images/uploads/pdf/School_Report_12172020.pdf',\n",
       " 'http://web.archive.org/web/20201218230358/https://www.healthy.arkansas.gov/images/uploads/pdf/School_Report_12142020.pdf',\n",
       " 'http://web.archive.org/web/20201231043047/https://www.healthy.arkansas.gov/images/uploads/pdf/School_Report_12282020.pdf',\n",
       " 'http://web.archive.org/web/20201231043047/https://www.healthy.arkansas.gov/images/uploads/pdf/School_Report_12232020.pdf',\n",
       " 'http://web.archive.org/web/20210102003101/http://healthy.arkansas.gov/images/uploads/pdf/School_Report_12312020.pdf',\n",
       " 'http://web.archive.org/web/20210118125615/https://www.healthy.arkansas.gov/images/uploads/pdf/School_Report_01142021.pdf',\n",
       " 'http://web.archive.org/web/20210118125615/https://www.healthy.arkansas.gov/images/uploads/pdf/School_Report_01112021.pdf',\n",
       " 'http://web.archive.org/web/20210129224920/https://www.healthy.arkansas.gov/images/uploads/pdf/School_Report_01282021.pdf',\n",
       " 'http://web.archive.org/web/20210129224920/https://www.healthy.arkansas.gov/images/uploads/pdf/School_Report_01252021.pdf',\n",
       " 'http://web.archive.org/images/uploads/pdf/School_Report_03012021.pdf',\n",
       " 'http://web.archive.org/images/uploads/pdf/School_Report_02252021.pdf']"
      ]
     },
     "execution_count": 8,
     "metadata": {},
     "output_type": "execute_result"
    }
   ],
   "source": [
    "ar_out"
   ]
  },
  {
   "cell_type": "code",
   "execution_count": null,
   "metadata": {},
   "outputs": [],
   "source": []
  },
  {
   "cell_type": "code",
   "execution_count": 26,
   "metadata": {},
   "outputs": [
    {
     "name": "stderr",
     "output_type": "stream",
     "text": [
      "Error from tabula-java:\n",
      "Error: Error: End-of-File, expected line\n",
      "\n",
      "\n"
     ]
    },
    {
     "ename": "CalledProcessError",
     "evalue": "Command '['java', '-Djava.awt.headless=true', '-Dfile.encoding=UTF8', '-jar', '/Users/brennan/anaconda3/envs/covid/lib/python3.8/site-packages/tabula/tabula-1.0.4-jar-with-dependencies.jar', '--pages', '1', '--guess', '--format', 'JSON', 'school_report_8_27.pdf']' returned non-zero exit status 1.",
     "output_type": "error",
     "traceback": [
      "\u001b[0;31m---------------------------------------------------------------------------\u001b[0m",
      "\u001b[0;31mCalledProcessError\u001b[0m                        Traceback (most recent call last)",
      "\u001b[0;32m<ipython-input-26-7c5d96658670>\u001b[0m in \u001b[0;36m<module>\u001b[0;34m\u001b[0m\n\u001b[1;32m      1\u001b[0m \u001b[0mar_file_i\u001b[0m \u001b[0;34m=\u001b[0m \u001b[0mweb_url\u001b[0m\u001b[0;34m+\u001b[0m\u001b[0mlinks_i\u001b[0m\u001b[0;34m[\u001b[0m\u001b[0;36m1\u001b[0m\u001b[0;34m]\u001b[0m\u001b[0;34m\u001b[0m\u001b[0;34m\u001b[0m\u001b[0m\n\u001b[0;32m----> 2\u001b[0;31m \u001b[0mtabula\u001b[0m\u001b[0;34m.\u001b[0m\u001b[0mread_pdf\u001b[0m\u001b[0;34m(\u001b[0m\u001b[0mar_file_i\u001b[0m\u001b[0;34m,\u001b[0m\u001b[0mpages\u001b[0m\u001b[0;34m=\u001b[0m\u001b[0;36m1\u001b[0m\u001b[0;34m)\u001b[0m\u001b[0;34m[\u001b[0m\u001b[0;36m0\u001b[0m\u001b[0;34m]\u001b[0m\u001b[0;34m\u001b[0m\u001b[0;34m\u001b[0m\u001b[0m\n\u001b[0m",
      "\u001b[0;32m~/anaconda3/envs/covid/lib/python3.8/site-packages/tabula/io.py\u001b[0m in \u001b[0;36mread_pdf\u001b[0;34m(input_path, output_format, encoding, java_options, pandas_options, multiple_tables, user_agent, **kwargs)\u001b[0m\n\u001b[1;32m    320\u001b[0m \u001b[0;34m\u001b[0m\u001b[0m\n\u001b[1;32m    321\u001b[0m     \u001b[0;32mtry\u001b[0m\u001b[0;34m:\u001b[0m\u001b[0;34m\u001b[0m\u001b[0;34m\u001b[0m\u001b[0m\n\u001b[0;32m--> 322\u001b[0;31m         \u001b[0moutput\u001b[0m \u001b[0;34m=\u001b[0m \u001b[0m_run\u001b[0m\u001b[0;34m(\u001b[0m\u001b[0mjava_options\u001b[0m\u001b[0;34m,\u001b[0m \u001b[0mkwargs\u001b[0m\u001b[0;34m,\u001b[0m \u001b[0mpath\u001b[0m\u001b[0;34m,\u001b[0m \u001b[0mencoding\u001b[0m\u001b[0;34m)\u001b[0m\u001b[0;34m\u001b[0m\u001b[0;34m\u001b[0m\u001b[0m\n\u001b[0m\u001b[1;32m    323\u001b[0m     \u001b[0;32mfinally\u001b[0m\u001b[0;34m:\u001b[0m\u001b[0;34m\u001b[0m\u001b[0;34m\u001b[0m\u001b[0m\n\u001b[1;32m    324\u001b[0m         \u001b[0;32mif\u001b[0m \u001b[0mtemporary\u001b[0m\u001b[0;34m:\u001b[0m\u001b[0;34m\u001b[0m\u001b[0;34m\u001b[0m\u001b[0m\n",
      "\u001b[0;32m~/anaconda3/envs/covid/lib/python3.8/site-packages/tabula/io.py\u001b[0m in \u001b[0;36m_run\u001b[0;34m(java_options, options, path, encoding)\u001b[0m\n\u001b[1;32m     78\u001b[0m \u001b[0;34m\u001b[0m\u001b[0m\n\u001b[1;32m     79\u001b[0m     \u001b[0;32mtry\u001b[0m\u001b[0;34m:\u001b[0m\u001b[0;34m\u001b[0m\u001b[0;34m\u001b[0m\u001b[0m\n\u001b[0;32m---> 80\u001b[0;31m         result = subprocess.run(\n\u001b[0m\u001b[1;32m     81\u001b[0m             \u001b[0margs\u001b[0m\u001b[0;34m,\u001b[0m\u001b[0;34m\u001b[0m\u001b[0;34m\u001b[0m\u001b[0m\n\u001b[1;32m     82\u001b[0m             \u001b[0mstdout\u001b[0m\u001b[0;34m=\u001b[0m\u001b[0msubprocess\u001b[0m\u001b[0;34m.\u001b[0m\u001b[0mPIPE\u001b[0m\u001b[0;34m,\u001b[0m\u001b[0;34m\u001b[0m\u001b[0;34m\u001b[0m\u001b[0m\n",
      "\u001b[0;32m~/anaconda3/envs/covid/lib/python3.8/subprocess.py\u001b[0m in \u001b[0;36mrun\u001b[0;34m(input, capture_output, timeout, check, *popenargs, **kwargs)\u001b[0m\n\u001b[1;32m    510\u001b[0m         \u001b[0mretcode\u001b[0m \u001b[0;34m=\u001b[0m \u001b[0mprocess\u001b[0m\u001b[0;34m.\u001b[0m\u001b[0mpoll\u001b[0m\u001b[0;34m(\u001b[0m\u001b[0;34m)\u001b[0m\u001b[0;34m\u001b[0m\u001b[0;34m\u001b[0m\u001b[0m\n\u001b[1;32m    511\u001b[0m         \u001b[0;32mif\u001b[0m \u001b[0mcheck\u001b[0m \u001b[0;32mand\u001b[0m \u001b[0mretcode\u001b[0m\u001b[0;34m:\u001b[0m\u001b[0;34m\u001b[0m\u001b[0;34m\u001b[0m\u001b[0m\n\u001b[0;32m--> 512\u001b[0;31m             raise CalledProcessError(retcode, process.args,\n\u001b[0m\u001b[1;32m    513\u001b[0m                                      output=stdout, stderr=stderr)\n\u001b[1;32m    514\u001b[0m     \u001b[0;32mreturn\u001b[0m \u001b[0mCompletedProcess\u001b[0m\u001b[0;34m(\u001b[0m\u001b[0mprocess\u001b[0m\u001b[0;34m.\u001b[0m\u001b[0margs\u001b[0m\u001b[0;34m,\u001b[0m \u001b[0mretcode\u001b[0m\u001b[0;34m,\u001b[0m \u001b[0mstdout\u001b[0m\u001b[0;34m,\u001b[0m \u001b[0mstderr\u001b[0m\u001b[0;34m)\u001b[0m\u001b[0;34m\u001b[0m\u001b[0;34m\u001b[0m\u001b[0m\n",
      "\u001b[0;31mCalledProcessError\u001b[0m: Command '['java', '-Djava.awt.headless=true', '-Dfile.encoding=UTF8', '-jar', '/Users/brennan/anaconda3/envs/covid/lib/python3.8/site-packages/tabula/tabula-1.0.4-jar-with-dependencies.jar', '--pages', '1', '--guess', '--format', 'JSON', 'school_report_8_27.pdf']' returned non-zero exit status 1."
     ]
    }
   ],
   "source": [
    "ar_file_i = web_url+links_i[1]\n",
    "tabula.read_pdf(ar_file_i,pages=1)[0]"
   ]
  },
  {
   "cell_type": "code",
   "execution_count": null,
   "metadata": {},
   "outputs": [],
   "source": []
  },
  {
   "cell_type": "code",
   "execution_count": null,
   "metadata": {},
   "outputs": [],
   "source": [
    "# ar_tmp = []\n",
    "# for i in range(len(ar_dates)):\n",
    "#     di = ar_dates[i][5:7]+ar_dates[i][-2:]+ar_dates[i][:4]\n",
    "#     file_i = 'https://www.healthy.arkansas.gov/images/uploads/pdf/School_Report_%s.pdf'%di\n",
    "#     try:\n",
    "#         ar_df_i = tabula.read_pdf(file_i,pages=1,multiple_tables=False)[0]\n",
    "#         ar_tmp.append(file_i)\n",
    "#         print('yes',ar_dates[i])\n",
    "#     except:\n",
    "#         di1 = ar_dates[i][5:7]+ar_dates[i][-2:]+ar_dates[i][:4]\n",
    "#         di2 = ar_dates[i].replace('-','')\n",
    "#         fi2 = 'http://web.archive.org/web/%s/https://www.healthy.arkansas.gov/images/uploads/pdf/School_Report_%s.pdf'%(di2,di1)\n",
    "#         print('...trying',fi2)\n",
    "#         try:\n",
    "#             ar_df_i = tabula.read_pdf(fi2,pages=1,multiple_tables=False)[0]\n",
    "#             ar_tmp.append(fi2)\n",
    "#             print('yes',ar_dates[i])\n",
    "#         except:\n",
    "#             continue\n",
    "#             print('\\tno',ar_dates[i])"
   ]
  },
  {
   "cell_type": "code",
   "execution_count": null,
   "metadata": {},
   "outputs": [],
   "source": []
  },
  {
   "cell_type": "markdown",
   "metadata": {},
   "source": [
    "# California\n",
    "\n",
    "https://maps.schools.covid19.ca.gov/public.html"
   ]
  },
  {
   "cell_type": "code",
   "execution_count": null,
   "metadata": {},
   "outputs": [],
   "source": []
  },
  {
   "cell_type": "markdown",
   "metadata": {},
   "source": [
    "# Colorado\n",
    "\n",
    "https://docs.google.com/spreadsheets/d/e/2PACX-1vQipdjO8QWhilhhJ4bX0FBebnHEzK1G3LEDQbE_S-xRvs2t0oHNm--acHwMRFmL9uKw4cXcOUqy1V66/pubhtml#"
   ]
  },
  {
   "cell_type": "code",
   "execution_count": null,
   "metadata": {},
   "outputs": [],
   "source": []
  },
  {
   "cell_type": "markdown",
   "metadata": {},
   "source": [
    "# Connecticut \n",
    "\n",
    "https://data.ct.gov/Health-and-Human-Services/COVID-19-Cases-in-CT-Schools-By-School-/u8jq-fxc2"
   ]
  },
  {
   "cell_type": "code",
   "execution_count": null,
   "metadata": {},
   "outputs": [],
   "source": []
  },
  {
   "cell_type": "markdown",
   "metadata": {},
   "source": [
    "# Delaware \n",
    "\n",
    "https://myhealthycommunity.dhss.delaware.gov/locations/state/in-person-contagious/district-school-cases/range/2021-01-16/2021-01-22\n",
    "https://myhealthycommunity.dhss.delaware.gov/locations/state/in-person-contagious/setting-school-cases\n",
    "\n",
    "https://myhealthycommunity.dhss.delaware.gov/locations/state/covid_venue_reports/2021-01-24/2021-01-30\n",
    "\n",
    "<option value='2021-02-20 - 2021-02-26'>02/20/2021 - 02/26/2021</option>\n",
    "<option value='2021-02-13 - 2021-02-19'>02/13/2021 - 02/19/2021</option>\n",
    "<option value='2021-02-06 - 2021-02-12'>02/06/2021 - 02/12/2021</option>\n",
    "<option value='2021-01-30 - 2021-02-05'>01/30/2021 - 02/05/2021</option>\n",
    "<option value='2021-01-23 - 2021-01-29'>01/23/2021 - 01/29/2021</option>\n",
    "<option value='2021-01-16 - 2021-01-22'>01/16/2021 - 01/22/2021</option>\n",
    "<option value='2021-01-09 - 2021-01-15'>01/09/2021 - 01/15/2021</option>\n",
    "<option value='2021-01-02 - 2021-01-08'>01/02/2021 - 01/08/2021</option>\n",
    "<option value='2020-12-26 - 2021-01-01'>12/26/2020 - 01/01/2021</option>\n",
    "<option value='2020-12-19 - 2020-12-25'>12/19/2020 - 12/25/2020</option>\n",
    "<option value='2020-12-12 - 2020-12-18'>12/12/2020 - 12/18/2020</option>\n",
    "<option value='2020-12-05 - 2020-12-11'>12/05/2020 - 12/11/2020</option>\n",
    "<option value='2020-11-28 - 2020-12-04'>11/28/2020 - 12/04/2020</option>\n",
    "<option value='2020-11-21 - 2020-11-27'>11/21/2020 - 11/27/2020</option>\n",
    "<option value='2020-11-14 - 2020-11-20'>11/14/2020 - 11/20/2020</option>\n",
    "<option value='2020-11-07 - 2020-11-13'>11/07/2020 - 11/13/2020</option>\n",
    "<option value='2020-10-31 - 2020-11-06'>10/31/2020 - 11/06/2020</option>\n",
    "<option value='2020-10-24 - 2020-10-30'>10/24/2020 - 10/30/2020</option>\n",
    "<option value='2020-10-17 - 2020-10-23'>10/17/2020 - 10/23/2020</option>\n",
    "<option value='2020-10-10 - 2020-10-16'>10/10/2020 - 10/16/2020</option>\n",
    "<option value='2020-10-03 - 2020-10-09'>10/03/2020 - 10/09/2020</option>\n",
    "<option value='2020-09-26 - 2020-10-02'>09/26/2020 - 10/02/2020</option>\n",
    "<option value='2020-09-19 - 2020-09-25'>09/19/2020 - 09/25/2020</option>\n",
    "<option value='2020-09-12 - 2020-09-18'>09/12/2020 - 09/18/2020</option>\n",
    "<option value='2020-09-05 - 2020-09-11'>09/05/2020 - 09/11/2020</option>\n",
    "<option value='2020-08-29 - 2020-09-04'>08/29/2020 - 09/04/2020</option>"
   ]
  },
  {
   "cell_type": "markdown",
   "metadata": {},
   "source": [
    "# District of Columbia\n",
    "\n",
    "https://coronavirus.dc.gov/page/outbreak-data"
   ]
  },
  {
   "cell_type": "code",
   "execution_count": null,
   "metadata": {},
   "outputs": [],
   "source": []
  },
  {
   "cell_type": "markdown",
   "metadata": {},
   "source": [
    "# Florida\n",
    "http://ww11.doh.state.fl.us/comm/_partners/covid19_report_archive/school-reports/schools_latest.pdf\n"
   ]
  },
  {
   "cell_type": "code",
   "execution_count": null,
   "metadata": {},
   "outputs": [],
   "source": []
  },
  {
   "cell_type": "markdown",
   "metadata": {},
   "source": [
    "# Georgia\n",
    "\n",
    "https://dph.georgia.gov/school-aged-covid-19-surveillance-data"
   ]
  },
  {
   "cell_type": "code",
   "execution_count": null,
   "metadata": {},
   "outputs": [],
   "source": []
  },
  {
   "cell_type": "markdown",
   "metadata": {},
   "source": [
    "# Hawaii\n",
    "\n"
   ]
  },
  {
   "cell_type": "code",
   "execution_count": null,
   "metadata": {},
   "outputs": [],
   "source": []
  },
  {
   "cell_type": "markdown",
   "metadata": {},
   "source": [
    "# Idaho\n",
    "\n",
    "https://coronavirus.idaho.gov/resources-for-schools/\n",
    "\n",
    "https://coronavirus.idaho.gov/wp-content/uploads/2021/03/School-Report-3.1.21-Fixed.pdf\n",
    "\n",
    "https://services7.arcgis.com/ugRfT6qLoOKPTf05/arcgis/rest/services/Idaho_School_Districts_View_Layer/FeatureServer/0/query?f=json&where=status%20%3D%20%27IN%20PERSON%27&returnGeometry=true&spatialRel=esriSpatialRelIntersects&maxAllowableOffset=2445&geometry=%7B%22xmin%22%3A-13775786.985668924%2C%22ymin%22%3A5009377.085700948%2C%22xmax%22%3A-12523442.714244926%2C%22ymax%22%3A6261721.357124943%2C%22spatialReference%22%3A%7B%22wkid%22%3A102100%7D%7D&geometryType=esriGeometryEnvelope&inSR=102100&outFields=*&outSR=102100&resultType=tile\n",
    "\n",
    "\n",
    "https://services7.arcgis.com/ugRfT6qLoOKPTf05/arcgis/rest/services/Idaho_School_Districts_View_Layer/FeatureServer/0/query?f=json&where=status%20%3D%20%27HYBRID%27&returnGeometry=true&spatialRel=esriSpatialRelIntersects&maxAllowableOffset=2445&geometry=%7B%22xmin%22%3A-13775786.985668924%2C%22ymin%22%3A5009377.085700948%2C%22xmax%22%3A-12523442.714244926%2C%22ymax%22%3A6261721.357124943%2C%22spatialReference%22%3A%7B%22wkid%22%3A102100%7D%7D&geometryType=esriGeometryEnvelope&inSR=102100&outFields=*&outSR=102100&resultType=tile\n",
    "\n"
   ]
  },
  {
   "cell_type": "code",
   "execution_count": null,
   "metadata": {},
   "outputs": [],
   "source": []
  },
  {
   "cell_type": "markdown",
   "metadata": {},
   "source": [
    "# Illinois\n",
    "\n",
    "http://web.archive.org/web/*/https://www.dph.illinois.gov/covid19/location-exposure?regionID=0\n",
    "\n",
    "https://idph.illinois.gov/DPHPublicInformation/api/covidct/GetCOVIDSchoolExposures\n",
    "\n",
    "https://idph.illinois.gov/DPHPublicInformation/api/COVID/GetSchoolOutbreaks\n",
    "\n",
    "https://isp.maps.arcgis.com/apps/opsdashboard/index.html#/fceeacb37da04de4b237ed941dd7d5c4"
   ]
  },
  {
   "cell_type": "code",
   "execution_count": null,
   "metadata": {},
   "outputs": [],
   "source": []
  },
  {
   "cell_type": "markdown",
   "metadata": {},
   "source": [
    "# Indiana\n",
    "Not available at this time\t\tIndiana COVID-19 Data Report\tUse \"School\" tab to see the data that is updated every Monday and is broken down by student, teacher, and staff.\n",
    "\n",
    "https://www.coronavirus.in.gov/map/covid-19-indiana-school-report.json\n",
    "\n",
    "\n"
   ]
  },
  {
   "cell_type": "code",
   "execution_count": null,
   "metadata": {},
   "outputs": [],
   "source": []
  },
  {
   "cell_type": "markdown",
   "metadata": {},
   "source": [
    "# Iowa\n",
    "Summary of Schools Providing Primarily Continuous/Remote Learning\t\tNot available at this time\tThe state has a dashboard that shows the past 14 day average positivity rates by county that school districts can use.\n",
    "\n",
    "https://educateiowa.gov/covid-19/requests-move-remote-learning-school-building-or-district\n"
   ]
  },
  {
   "cell_type": "code",
   "execution_count": null,
   "metadata": {},
   "outputs": [],
   "source": []
  },
  {
   "cell_type": "markdown",
   "metadata": {},
   "source": [
    "# Kansas\n",
    "Not available at this time\t\tNot available at this time"
   ]
  },
  {
   "cell_type": "code",
   "execution_count": null,
   "metadata": {},
   "outputs": [],
   "source": []
  },
  {
   "cell_type": "markdown",
   "metadata": {},
   "source": [
    "# Kentucky\n",
    "Not available at this time\t\tK-12 School COVID-19 Self-Reported Data\n",
    "\n",
    "https://public.tableau.com/profile/chfs.dph#!/vizhome/COVID19SchoolSelfReportngData/SchoolSelfReportCovid19DB"
   ]
  },
  {
   "cell_type": "code",
   "execution_count": null,
   "metadata": {},
   "outputs": [],
   "source": []
  },
  {
   "cell_type": "markdown",
   "metadata": {},
   "source": [
    "# Louisiana\n",
    "Learning Environment and Connectivity Tool\t\tCOVID-19 Outbreaks - K-12 Schools Reporting\tThe Louisiana Department of Health's dashboard breaks cases down by parish.\n",
    "\n",
    "https://ldh.la.gov/assets/oph/Coronavirus/resources/k-12/reporting/K-12ReportbyParish-02282021.pdf\n",
    "\n",
    "https://datastudio.google.com/u/0/reporting/57592098-3276-452a-9872-456384c0acdc/page/2oidB?s=jF2UNzlqNKM"
   ]
  },
  {
   "cell_type": "code",
   "execution_count": null,
   "metadata": {},
   "outputs": [],
   "source": []
  },
  {
   "cell_type": "markdown",
   "metadata": {},
   "source": [
    "# Maine\n",
    "Not available at this time\t\tCOVID-19 Cases in Maine Pre-K-12 Schools Over the Last 30 days\tUpdated on Thursdays at 4pm.\n"
   ]
  },
  {
   "cell_type": "code",
   "execution_count": null,
   "metadata": {},
   "outputs": [],
   "source": []
  },
  {
   "cell_type": "markdown",
   "metadata": {},
   "source": [
    "# Maryland\n",
    "Positive COVID-19 Related Status of Instructional Models\t\tMD COVID-19 SchoolOutbreak\n",
    "\n",
    "https://coronavirus.maryland.gov/datasets/md-covid19-schooloutbreaks/data\n",
    "\n",
    "http://www.marylandpublicschools.org/newsroom/_layouts/15/xlviewer.aspx?id=/newsroom/Documents/School-System-Instructional-Status-Form.xlsx"
   ]
  },
  {
   "cell_type": "code",
   "execution_count": null,
   "metadata": {},
   "outputs": [],
   "source": []
  },
  {
   "cell_type": "markdown",
   "metadata": {},
   "source": [
    "# Massachusetts\n",
    "Not available at this time\tThe state has a list of district reopening models at the beginning of the academic year available here: 🔗\tPositive COVID-19 Cases in Schools\n",
    "\n",
    "https://www.doe.mass.edu/covid19/positive-cases/"
   ]
  },
  {
   "cell_type": "code",
   "execution_count": null,
   "metadata": {},
   "outputs": [],
   "source": []
  },
  {
   "cell_type": "markdown",
   "metadata": {},
   "source": [
    "# Michigan\n",
    "Extended COVID-19 Learning Plan Dashboard\t\tSchool-Related Outbreak Reporting\tThis page is updated every Monday.\n",
    "\n",
    "https://www.mischooldata.org/covid-dashboard/\n",
    "\n",
    "https://www.michigan.gov/coronavirus/0,9753,7-406-98163_98173_102480---,00.html"
   ]
  },
  {
   "cell_type": "code",
   "execution_count": null,
   "metadata": {},
   "outputs": [],
   "source": []
  },
  {
   "cell_type": "markdown",
   "metadata": {},
   "source": [
    "# Minnesota\n",
    "Safe Learning Model Data\tThis page links to a dashboard that compiles instructional model data self-reported from districts and charter schools.\tCOVID-19 Situation Update\tSchool buildings reporting 5 or more cases are listed in the \"Facilities with Cases & Exposures\" and more detailed data can be found in the weekly reports.\n",
    "\n",
    "https://www.health.state.mn.us/diseases/coronavirus/situation.html#ccf1\n",
    "\n",
    "https://education.mn.gov/MDE/dse/health/covid19/slmd/"
   ]
  },
  {
   "cell_type": "code",
   "execution_count": null,
   "metadata": {},
   "outputs": [],
   "source": []
  },
  {
   "cell_type": "markdown",
   "metadata": {},
   "source": [
    "# Mississippi\n",
    "Not available at this time\t\tCOVID-19 Cases and Outbreaks in K-12 Schools\n",
    "\n",
    "https://www.msdh.ms.gov/msdhsite/_static/14,0,420,972.html"
   ]
  },
  {
   "cell_type": "code",
   "execution_count": null,
   "metadata": {},
   "outputs": [],
   "source": []
  },
  {
   "cell_type": "markdown",
   "metadata": {},
   "source": [
    "# Missouri\n",
    "Statewide Patterns of Instruction\t\tCOVID-19 in School District Communities\n",
    "\n",
    "https://dese.mo.gov/communications/coronavirus-covid-19-information\n",
    "\n",
    "https://showmestrong.mo.gov/data/public-health/school-districts/\n"
   ]
  },
  {
   "cell_type": "code",
   "execution_count": null,
   "metadata": {},
   "outputs": [],
   "source": []
  },
  {
   "cell_type": "markdown",
   "metadata": {},
   "source": [
    "# Montana\n",
    "Not available at this time\t\tCoronavirus Disease 2019 (COVID-19)\tThe COVID-19 in Montana Schools report, which is updated every Wednesday, can be accessed from the Coronavirus Disease 2019 (COVID-19) dashboard.\n",
    "\n",
    "\n"
   ]
  },
  {
   "cell_type": "code",
   "execution_count": null,
   "metadata": {},
   "outputs": [],
   "source": []
  },
  {
   "cell_type": "markdown",
   "metadata": {},
   "source": [
    "# Nebraska\n",
    "Not available at this time\t\tNot available at this time\t\t\n"
   ]
  },
  {
   "cell_type": "code",
   "execution_count": null,
   "metadata": {},
   "outputs": [],
   "source": []
  },
  {
   "cell_type": "markdown",
   "metadata": {},
   "source": [
    "# Nevada\n",
    "Not available at this time\t\tNot available at this time\t\t\n"
   ]
  },
  {
   "cell_type": "code",
   "execution_count": null,
   "metadata": {},
   "outputs": [],
   "source": []
  },
  {
   "cell_type": "markdown",
   "metadata": {},
   "source": [
    "# New Hampshire\n",
    "COVID-19 Schools Dashboard\t\tCOVID-19 Schools Dashboard\n",
    "\n",
    "https://www.nh.gov/covid19/dashboard/schools.htm#dash\n",
    "\n"
   ]
  },
  {
   "cell_type": "code",
   "execution_count": null,
   "metadata": {},
   "outputs": [],
   "source": []
  },
  {
   "cell_type": "markdown",
   "metadata": {},
   "source": [
    "# New Jersey\n",
    "Not available at this time\t\tCOVID-19 Information Hub\tUse the Schools tab to see the NJ COVID-19 School-Related Outbreaks Dashboard\n",
    "\n",
    "https://covid19.nj.gov/forms/datadashboard\n"
   ]
  },
  {
   "cell_type": "code",
   "execution_count": null,
   "metadata": {},
   "outputs": [],
   "source": []
  },
  {
   "cell_type": "markdown",
   "metadata": {},
   "source": [
    "# New Mexico\n",
    "School Reentry Status\tScroll down to the button for \"School Reentry Status\tRapid Response Covid-19 Watchlist\tFor school-related cases, search for \"NMPED\" in the search bar.\n",
    "\n",
    "https://www.env.nm.gov/rapid-response-data/\n",
    "\n",
    "https://webnew.ped.state.nm.us/reentry-district-and-school-guidance/"
   ]
  },
  {
   "cell_type": "code",
   "execution_count": null,
   "metadata": {},
   "outputs": [],
   "source": []
  },
  {
   "cell_type": "markdown",
   "metadata": {},
   "source": [
    "# New York\n",
    "Not available at this time\t\tCOVID-19 Report Card\n",
    "\n",
    "https://schoolcovidreportcard.health.ny.gov/#/home\n"
   ]
  },
  {
   "cell_type": "code",
   "execution_count": null,
   "metadata": {},
   "outputs": [],
   "source": []
  },
  {
   "cell_type": "markdown",
   "metadata": {},
   "source": [
    "# North Carolina\n",
    "NC School Reopenings for 2020-21\t\tNC School Reopenings for 2020-21\n",
    "\n",
    "\n",
    "https://docs.google.com/spreadsheets/d/1We8gDpa4Do5NR83Nf8niGE_YxzLDf-KZh-tVWifStxE/edit#gid=0\n"
   ]
  },
  {
   "cell_type": "code",
   "execution_count": null,
   "metadata": {},
   "outputs": [],
   "source": []
  },
  {
   "cell_type": "markdown",
   "metadata": {},
   "source": [
    "# North Dakota\n",
    "Not available at this time\t\tK-12 School Dashboard\n",
    "\n",
    "https://www.health.nd.gov/k-12-school-dashboard\n"
   ]
  },
  {
   "cell_type": "code",
   "execution_count": null,
   "metadata": {},
   "outputs": [],
   "source": []
  },
  {
   "cell_type": "markdown",
   "metadata": {},
   "source": [
    "# Ohio\n",
    "Education Model for School Year 2021\tScroll down to see the map and the link that shows current instructional models.\tCOVID-19 Dashboard\n",
    "\n",
    "http://education.ohio.gov/Topics/Reset-and-Restart\n",
    "\n",
    "https://coronavirus.ohio.gov/wps/portal/gov/covid-19/dashboards/schools-and-children/schools\n"
   ]
  },
  {
   "cell_type": "code",
   "execution_count": null,
   "metadata": {},
   "outputs": [],
   "source": []
  },
  {
   "cell_type": "markdown",
   "metadata": {},
   "source": [
    "# Oklahoma\n",
    "Not available at this time\t\tNot available at this time\n",
    "\n",
    "\n"
   ]
  },
  {
   "cell_type": "code",
   "execution_count": null,
   "metadata": {},
   "outputs": [],
   "source": []
  },
  {
   "cell_type": "markdown",
   "metadata": {},
   "source": [
    "# Oregon\n",
    "School Status page\tUpdated on a weekly basis, this Department of Education data includes both private and public school information.\tCOVID-19 Reporting\tUpdated weekly, this page provides data on cases associated with schools that offer in-person instruction.\n",
    "\n",
    "https://www.oregon.gov/ode/students-and-family/healthsafety/Pages/COVID-19-Reporting.aspx\n",
    "\n",
    "https://www.oregon.gov/ode/students-and-family/healthsafety/Pages/2020-21-School-Status.aspx\n"
   ]
  },
  {
   "cell_type": "code",
   "execution_count": null,
   "metadata": {},
   "outputs": [],
   "source": []
  },
  {
   "cell_type": "markdown",
   "metadata": {},
   "source": [
    "# Pennsylvania\n",
    "Not available at this time\t\tNot available at this time\n",
    "\n",
    "\n"
   ]
  },
  {
   "cell_type": "code",
   "execution_count": null,
   "metadata": {},
   "outputs": [],
   "source": []
  },
  {
   "cell_type": "markdown",
   "metadata": {},
   "source": [
    "# Rhode Island\n",
    "\n",
    "https://docs.google.com/spreadsheets/d/1c2QrNMz8pIbYEKzMJL7Uh2dtThOJa2j1sSMwiDo5Gz4/edit#gid=594871904"
   ]
  },
  {
   "cell_type": "code",
   "execution_count": null,
   "metadata": {},
   "outputs": [],
   "source": []
  },
  {
   "cell_type": "markdown",
   "metadata": {},
   "source": [
    "# South Carolina\n",
    "School District COVID-19 Current Operational Status Map\t\tCOVID-19 Cases Associated with Staff & Students\n",
    "\n",
    "http://web.archive.org/web/20210201230327/https://ed.sc.gov/districts-schools/schools/district-and-school-closures/operational-status/\n",
    "https://scdhec.gov/covid19/resources-community-covid-19/covid-19-cases-associated-staff-students\n"
   ]
  },
  {
   "cell_type": "code",
   "execution_count": null,
   "metadata": {},
   "outputs": [],
   "source": []
  },
  {
   "cell_type": "markdown",
   "metadata": {},
   "source": [
    "# South Dakota\n",
    "Not available at this time\t\tSouth Dakota COVID-19 Updates\tScroll to the \"South Dakota K-12 Schools and Colleges, Universities, and Technical Schools\" report, which is updated on Mondays.\n",
    "\n",
    "https://web.archive.org/web/20210128224326/https://doh.sd.gov/documents/COVID19/School-College_COVID_cases.pdf"
   ]
  },
  {
   "cell_type": "code",
   "execution_count": null,
   "metadata": {},
   "outputs": [],
   "source": []
  },
  {
   "cell_type": "markdown",
   "metadata": {},
   "source": [
    "# Tennessee\n",
    "TDOE COVID-19 District Information\tDistricts are requested to submit COVID and instructional model data weekly.\tTDOE COVID-19 District Information\tDistricts are requested to submit COVID and instructional model data weekly.\t\n",
    "\n",
    "https://districtinformation.tnedu.gov/api/districts\n",
    "\n",
    "http://web.archive.org/web/20201105231752/https://districtinformation.tnedu.gov/api/districts"
   ]
  },
  {
   "cell_type": "code",
   "execution_count": null,
   "metadata": {},
   "outputs": [],
   "source": []
  },
  {
   "cell_type": "markdown",
   "metadata": {},
   "source": [
    "# Texas\n",
    "Not available at this time\tTexas requires school districts to provide daily, on-campus learning for any family who wants it in order to not lose state funding due to declines in enrollment.\tTexas Public Schools COVID-19 Data\tThis report on public schools is updated on Fridays.\n",
    "\n",
    "https://dshs.texas.gov/coronavirus/schools/texas-education-agency/\n"
   ]
  },
  {
   "cell_type": "code",
   "execution_count": null,
   "metadata": {},
   "outputs": [],
   "source": []
  },
  {
   "cell_type": "markdown",
   "metadata": {},
   "source": [
    "# Utah\n",
    "Not available at this time\t\tCase Counts\tUse the schools tab to see the School-Associated Cases by School District report.\t\n",
    "\n",
    "https://coronavirus-dashboard.utah.gov/#schools\n",
    "\n",
    "https://coronavirus-dashboard.utah.gov/\n",
    "\n",
    "http://web.archive.org/web/2020*/https://coronavirus-dashboard.utah.gov/Utah_COVID19_data.zip"
   ]
  },
  {
   "cell_type": "code",
   "execution_count": null,
   "metadata": {},
   "outputs": [],
   "source": []
  },
  {
   "cell_type": "markdown",
   "metadata": {},
   "source": [
    "# Vermont\n",
    "Not available at this time\t\tPreK-12 Schools\tClick on the \"COVID-19 Cases in School While Infectious\" link which is updated Tuesdays and Fridays.\n",
    "\n",
    "https://www.healthvermont.gov/covid-19/your-community/prek-12-schools\n",
    "\n",
    "http://web.archive.org/web/*/https://www.healthvermont.gov/sites/default/files/documents/pdf/COVID19-Transmission-Schools.pdf\n"
   ]
  },
  {
   "cell_type": "code",
   "execution_count": null,
   "metadata": {},
   "outputs": [],
   "source": []
  },
  {
   "cell_type": "markdown",
   "metadata": {},
   "source": [
    "# Virginia\n",
    "State Snapshot: Virginia School Operational Status\t\tCOVID-19 Outbreaks by Selected Exposure Settings\tThis report is updated on Fridays.\n",
    "\n",
    "https://www.doe.virginia.gov/support/health_medical/office/reopen-status.shtml\n",
    "\n",
    "https://www.vdh.virginia.gov/coronavirus/covid-19-outbreaks-in-virginia-colleges-and-universities/\n",
    "\n",
    "\n"
   ]
  },
  {
   "cell_type": "code",
   "execution_count": null,
   "metadata": {},
   "outputs": [],
   "source": []
  },
  {
   "cell_type": "markdown",
   "metadata": {},
   "source": [
    "# Washington\n",
    "School Reopening Data\t\tNot available at this time\n",
    "\n",
    "https://www.k12.wa.us/about-ospi/press-releases/novel-coronavirus-covid-19-guidance-resources/school-reopening-data"
   ]
  },
  {
   "cell_type": "code",
   "execution_count": null,
   "metadata": {},
   "outputs": [],
   "source": []
  },
  {
   "cell_type": "markdown",
   "metadata": {},
   "source": [
    "# West Virginia\n",
    "Not available at this time\t\tCOVID-19 Outbreaks in State Public Schools\n",
    "\n",
    "https://wvde.us/schooloutbreaks\n",
    "\n",
    "\n"
   ]
  },
  {
   "cell_type": "code",
   "execution_count": null,
   "metadata": {},
   "outputs": [],
   "source": []
  },
  {
   "cell_type": "markdown",
   "metadata": {},
   "source": [
    "# Wisconsin \n",
    "Not available at this time\t\tCOVID-19 Historical Data by School District\n",
    "\n",
    "https://data.dhsgis.wi.gov/datasets/covid-19-historical-data-by-census-tract\n",
    "\n",
    "https://data.dhsgis.wi.gov/datasets/covid-19-historical-data-by-school-district?orderBy=DATE&orderByAsc=false\n",
    "\n",
    "\n"
   ]
  },
  {
   "cell_type": "code",
   "execution_count": null,
   "metadata": {},
   "outputs": [],
   "source": []
  },
  {
   "cell_type": "markdown",
   "metadata": {},
   "source": [
    "# Wyoming\n",
    "Not available at this time\t\tNot available at this time\t\t"
   ]
  },
  {
   "cell_type": "code",
   "execution_count": null,
   "metadata": {},
   "outputs": [],
   "source": []
  },
  {
   "cell_type": "code",
   "execution_count": null,
   "metadata": {},
   "outputs": [],
   "source": []
  },
  {
   "cell_type": "code",
   "execution_count": null,
   "metadata": {},
   "outputs": [],
   "source": []
  },
  {
   "cell_type": "code",
   "execution_count": null,
   "metadata": {},
   "outputs": [],
   "source": []
  },
  {
   "cell_type": "code",
   "execution_count": null,
   "metadata": {},
   "outputs": [],
   "source": []
  },
  {
   "cell_type": "code",
   "execution_count": null,
   "metadata": {},
   "outputs": [],
   "source": []
  },
  {
   "cell_type": "code",
   "execution_count": null,
   "metadata": {},
   "outputs": [],
   "source": []
  },
  {
   "cell_type": "code",
   "execution_count": null,
   "metadata": {},
   "outputs": [],
   "source": []
  }
 ],
 "metadata": {
  "kernelspec": {
   "display_name": "Python 3",
   "language": "python",
   "name": "python3"
  },
  "language_info": {
   "codemirror_mode": {
    "name": "ipython",
    "version": 3
   },
   "file_extension": ".py",
   "mimetype": "text/x-python",
   "name": "python",
   "nbconvert_exporter": "python",
   "pygments_lexer": "ipython3",
   "version": "3.8.5"
  }
 },
 "nbformat": 4,
 "nbformat_minor": 5
}
